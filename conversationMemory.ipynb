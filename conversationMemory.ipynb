{
 "cells": [
  {
   "cell_type": "code",
   "execution_count": 2,
   "metadata": {},
   "outputs": [
    {
     "data": {
      "text/plain": [
       "{'history': [HumanMessage(content='Hi'), AIMessage(content='How are you?')]}"
      ]
     },
     "execution_count": 2,
     "metadata": {},
     "output_type": "execute_result"
    }
   ],
   "source": [
    "# 5.1. ConversationBufferMemory\n",
    "from langchain.memory import ConversationBufferMemory\n",
    "\n",
    "memory = ConversationBufferMemory(return_messages=True)\n",
    "\n",
    "#memory에 텍스트 내용을 \"모두\" 저장 -> 대화하듯이 ai가 이전 데이터를 기억할 수 있게 한다.\n",
    "#저장되는 텍스트 내용이 많아질 수록 메모리 사용량이 증가\n",
    "memory.save_context({\"input\":\"Hi\"},{\"output\":\"How are you?\"})\n",
    "#현재까지 저장한 텍스트 내용을 불러온다.\n",
    "memory.load_memory_variables({})"
   ]
  },
  {
   "cell_type": "code",
   "execution_count": 3,
   "metadata": {},
   "outputs": [
    {
     "data": {
      "text/plain": [
       "{'history': [HumanMessage(content='1'), AIMessage(content='1')]}"
      ]
     },
     "execution_count": 3,
     "metadata": {},
     "output_type": "execute_result"
    }
   ],
   "source": [
    "# 5.2. ConversationBufferWindowMemory\n",
    "# 대화의 특정부분만 저장 (ex. 최근 5개의 메시지만 저장)\n",
    "from langchain.memory import ConversationBufferWindowMemory\n",
    "\n",
    "memory = ConversationBufferWindowMemory(\n",
    "    return_messages=True,\n",
    "    k=4 #buffer window size (몇개의 메시지를 저장할지)\n",
    ")\n",
    "\n",
    "def add_message(input,output):\n",
    "    memory.save_context({\"input\": input},{\"output\": output})\n",
    "\n",
    "add_message(1,1) #k개 이상으로 메시지를 저장하면 오래된 것을 삭제하고 최근 것을 저장한다.\n",
    "\n",
    "memory.load_memory_variables({})"
   ]
  },
  {
   "cell_type": "code",
   "execution_count": 8,
   "metadata": {},
   "outputs": [
    {
     "data": {
      "text/plain": [
       "{'history': 'The human introduces themselves as Jungil from South Korea, specifically Dongtan. The AI expresses admiration for this information and wishes it could visit the pretty city of Dongtan.'}"
      ]
     },
     "execution_count": 8,
     "metadata": {},
     "output_type": "execute_result"
    }
   ],
   "source": [
    "# 5.3. ConversationSummaryMemory\n",
    "from langchain.memory import ConversationSummaryMemory\n",
    "from langchain.chat_models import ChatOpenAI\n",
    "\n",
    "llm =ChatOpenAI(temperature=0.1)\n",
    "\n",
    "memory = ConversationSummaryMemory(llm=llm)\n",
    "\n",
    "def add_message(input,output):\n",
    "    memory.save_context({\"input\":input},{\"output\":output})\n",
    "\n",
    "def get_history():\n",
    "    return memory.load_memory_variables({})\n",
    "\n",
    "add_message(\"Hi I'm Jungil, I live in South Korea, Dongtan\",\"Wow that is so cool!\")\n",
    "\n",
    "add_message(\"Dongtan is so pretty city\",\"I wish I could go!!\")\n",
    "\n",
    "get_history()"
   ]
  },
  {
   "cell_type": "code",
   "execution_count": 7,
   "metadata": {},
   "outputs": [],
   "source": [
    "# 5.4. ConversationSummaryBufferMemory\n",
    "# buffer memory 와 summary memory 가 결합된 형태의 메모리\n",
    "# max_token_limit 값을 설정해, 저장된 텍스트가 해당 값 이하로 저장된 경우 온전히 저장하고,\n",
    "# limit 값을 초과하면 오래되었던 정보들을 모아 요약하고, 최근 것을 온전히 저장한다.\n",
    "from langchain.memory import ConversationSummaryBufferMemory\n",
    "from langchain.chat_models import ChatOpenAI\n",
    "\n",
    "llm = ChatOpenAI(temperature=0.1)\n",
    "\n",
    "memory = ConversationSummaryBufferMemory(\n",
    "    llm = llm,\n",
    "    max_token_limit = 100,\n",
    "    return_messages= True,\n",
    ")\n",
    "\n",
    "def add_message(input, output):\n",
    "    memory.save_context({\"input\":input},{\"output\":output})\n",
    "\n",
    "def get_history():\n",
    "    return memory.load_memory_variables({})\n",
    "\n",
    "add_message(\"Hi I'm Jungil, I live in South Korea, Dongtan\",\"Wow that is so cool!\")\n",
    "add_message(\"Dongtan is so pretty city\",\"I wish I could go!!\")\n",
    "#message 용량이 limit값 이상으로 초과되면 메시지 정보가 요약된다.\n",
    "get_history()"
   ]
  }
 ],
 "metadata": {
  "kernelspec": {
   "display_name": "env",
   "language": "python",
   "name": "python3"
  },
  "language_info": {
   "codemirror_mode": {
    "name": "ipython",
    "version": 3
   },
   "file_extension": ".py",
   "mimetype": "text/x-python",
   "name": "python",
   "nbconvert_exporter": "python",
   "pygments_lexer": "ipython3",
   "version": "3.10.18"
  }
 },
 "nbformat": 4,
 "nbformat_minor": 2
}
