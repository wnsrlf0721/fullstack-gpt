{
 "cells": [
  {
   "cell_type": "code",
   "execution_count": 19,
   "metadata": {},
   "outputs": [
    {
     "name": "stdout",
     "output_type": "stream",
     "text": [
      "\n",
      "        Here is what I know:\n",
      "        Director: Jon Favreau\n",
      "        Main cast: Robert Downey Jr., Gwyneth Paltrow, Don Cheadle, Scarlett Johansson\n",
      "        Budget: $200 million\n",
      "        Box Office Revenue: $623.9 million\n",
      "        Genre: Superhero, Action, Sci-Fi\n",
      "        Synopsis: Tony Stark faces new challenges as he battles both his own health issues and a formidable new enemy, Whiplash, while also dealing with the pressures of being Iron Man. The sequel to the successful first Iron Man film."
     ]
    },
    {
     "data": {
      "text/plain": [
       "AIMessageChunk(content='\\n        Here is what I know:\\n        Director: Jon Favreau\\n        Main cast: Robert Downey Jr., Gwyneth Paltrow, Don Cheadle, Scarlett Johansson\\n        Budget: $200 million\\n        Box Office Revenue: $623.9 million\\n        Genre: Superhero, Action, Sci-Fi\\n        Synopsis: Tony Stark faces new challenges as he battles both his own health issues and a formidable new enemy, Whiplash, while also dealing with the pressures of being Iron Man. The sequel to the successful first Iron Man film.')"
      ]
     },
     "execution_count": 19,
     "metadata": {},
     "output_type": "execute_result"
    }
   ],
   "source": [
    "#영화 이름을 가지고 감독, 주요 출연진, 예산, 흥행 수익, 영화의 장르, 간단한 시놉시스 등 영화에 대한 정보로 답장하는 체인을 만드세요.\n",
    "#LLM은 항상 동일한 형식을 사용하여 응답해야 하며, 이를 위해서는 원하는 출력의 예시를 LLM에 제공해야 합니다.\n",
    "#예제를 제공하려면 FewShotPromptTemplate 또는 FewShotChatMessagePromptTemplate을 사용하세요.\n",
    "\n",
    "from langchain.chat_models import ChatOpenAI\n",
    "from langchain.prompts.few_shot import FewShotPromptTemplate, FewShotChatMessagePromptTemplate\n",
    "from langchain.callbacks import StreamingStdOutCallbackHandler\n",
    "from langchain.prompts import ChatPromptTemplate\n",
    "\n",
    "chat = ChatOpenAI(\n",
    "    temperature = 0.2,\n",
    "    streaming=True,\n",
    "    callbacks=[\n",
    "        StreamingStdOutCallbackHandler(),\n",
    "    ],\n",
    ")\n",
    "\n",
    "examples = [\n",
    "    {\n",
    "        \"movie_name\": \"inception\",\n",
    "        \"answer\": \"\"\"\n",
    "        Here is what I know:\n",
    "        Director: Christopher Nolan\n",
    "        Main cast: Leonardo DiCaprio, Joseph Gordon-Levitt, Ellen Page, Tom Hardy\n",
    "        Budget: $160 million\n",
    "        Box Office Revenue: $830 million\n",
    "        Genre: Sci-Fi, Action, Thriller\n",
    "        Synopsis: A team of specialists enters other people’s dreams to plant ideas. A visually stunning and intellectually engaging masterpiece that blurs the line between dreams and reality.\n",
    "        \"\"\",\n",
    "    },\n",
    "    {\n",
    "        \"movie_name\": \"avengers: Endgame\",\n",
    "        \"answer\": \"\"\"\n",
    "        I know this:\n",
    "        Director: Anthony Russo, Joe Russo\n",
    "        Main cast: Robert Downey Jr., Chris Evans, Scarlett Johansson, Chris Hemsworth\n",
    "        Budget: $350 million\n",
    "        Box Office Revenue: $2.79 billion\n",
    "        Genre: Superhero, Action, Sci-Fi\n",
    "        Synopsis: After the catastrophic events of Infinity War, the remaining heroes unite for one final battle to restore their vanished allies and save humanity. The epic conclusion to a decade-long MCU saga.\n",
    "        \"\"\",\n",
    "    },\n",
    "    {\n",
    "        \"movie_name\": \"기생충\",\n",
    "        \"answer\": \"\"\"\n",
    "        I know this:\n",
    "        Director: 봉준호\n",
    "        Main cast: 송강호, 이선균, 조여정, 최우식, 박소담\n",
    "        Budget: 135억 원\n",
    "        Box Office Revenue: 2,500억 원\n",
    "        Genre: 드라마, 스릴러\n",
    "        Synopsis: 반지하에 사는 가난한 가족이 부유층 가정에 하나둘씩 스며들며 벌어지는 사건을 다룬다. 계층 간의 간극과 인간 본성을 날카롭게 그려낸 사회 풍자극.\n",
    "        \"\"\",\n",
    "    },\n",
    "]\n",
    "\n",
    "example_prompt = ChatPromptTemplate.from_messages([\n",
    "    (\"human\",\"What do you know about {movie_name}?\"),\n",
    "    (\"ai\",\"{answer}\")\n",
    "])\n",
    "\n",
    "example_prompt = FewShotChatMessagePromptTemplate(\n",
    "    example_prompt=example_prompt,\n",
    "    examples=examples,\n",
    ")\n",
    "\n",
    "final_prompt = ChatPromptTemplate.from_messages([\n",
    "    (\"system\",\"You are a movie critic.\"),\n",
    "    example_prompt,\n",
    "    (\"human\",\"What do you know about {movie_name}?\")\n",
    "])\n",
    "\n",
    "chain = final_prompt | chat\n",
    "\n",
    "chain.invoke({\n",
    "    \"movie_name\":\"ironman2\"\n",
    "})\n",
    "\n"
   ]
  }
 ],
 "metadata": {
  "kernelspec": {
   "display_name": "env",
   "language": "python",
   "name": "python3"
  },
  "language_info": {
   "codemirror_mode": {
    "name": "ipython",
    "version": 3
   },
   "file_extension": ".py",
   "mimetype": "text/x-python",
   "name": "python",
   "nbconvert_exporter": "python",
   "pygments_lexer": "ipython3",
   "version": "3.10.18"
  }
 },
 "nbformat": 4,
 "nbformat_minor": 2
}
