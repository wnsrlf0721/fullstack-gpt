{
 "cells": [
  {
   "cell_type": "code",
   "execution_count": 4,
   "metadata": {},
   "outputs": [],
   "source": [
    "# Implement an LCEL chain with a memory\n",
    "# The chain should take the title of a movie and reply with three emojis that represent the movie. \n",
    "# (i.e \"Top Gun\" -> \"🛩️👨‍✈️🔥\". \"The Godfather\" -> \"👨‍👨‍👦🔫🍝 \").\n",
    "# using `FewShotPromptTemplate` or `FewShotChatMessagePromptTemplate` to make sure it \"\"always replies\"\"\" with three emojis.\n",
    "from langchain.memory import ConversationBufferMemory\n",
    "from langchain.chat_models import ChatOpenAI\n",
    "from langchain.schema.runnable import RunnablePassthrough\n",
    "from langchain.prompts import ChatPromptTemplate, MessagesPlaceholder\n",
    "from langchain.prompts.few_shot import FewShotChatMessagePromptTemplate\n",
    "\n",
    "llm = ChatOpenAI(temperature=0.1)\n",
    "\n",
    "#전체 prompt를 메모리에 저장하는 방식 활용\n",
    "memory = ConversationBufferMemory(\n",
    "    llm = llm,\n",
    "    return_messages=True,\n",
    "    memory_key = \"chat_history\"\n",
    ")\n",
    "\n",
    "#fewshot -> 예제를 모델에게 줘서 모델이 갖춰야할 조건을 학습시킨다.\n",
    "examples = [\n",
    "    {\n",
    "        \"movie_name\": \"Top Gun\",\n",
    "        \"answer\": \"🛩️👨‍✈️🔥\",\n",
    "    },\n",
    "    {\n",
    "        \"movie_name\": \"The Godfather\",\n",
    "        \"answer\": \"👨‍👨‍👦🔫🍝\",\n",
    "    }\n",
    "]\n",
    "\n",
    "example_prompt = ChatPromptTemplate.from_messages([\n",
    "    (\"human\",\"How do you represent {movie_name} movie to emoji?\"),\n",
    "    (\"ai\",\"{answer}\")\n",
    "])\n",
    "\n",
    "example_prompt = FewShotChatMessagePromptTemplate(\n",
    "    example_prompt = ChatPromptTemplate.from_messages([\n",
    "        (\"human\",\"How do you represent {movie_name} movie to emoji?\"),\n",
    "        (\"ai\",\"{answer}\")\n",
    "    ]),\n",
    "    examples = examples,\n",
    ")\n",
    "\n",
    "prompt = ChatPromptTemplate.from_messages([\n",
    "    (\"system\",\"You are a translator AI represent movie to emoji. you can only use three emojies to represent movie\"),\n",
    "    MessagesPlaceholder(variable_name = \"chat_history\"),\n",
    "    example_prompt,\n",
    "    (\"human\",\"{answer}\"),\n",
    "])\n",
    "\n",
    "def load_memory(input):\n",
    "    return memory.load_memory_variables({})[\"chat_history\"]\n",
    "\n",
    "chain = RunnablePassthrough.assign(chat_history= load_memory) | prompt | llm\n",
    "\n",
    "def invoke_chain(answer):\n",
    "    result = chain.invoke({\n",
    "        \"answer\": answer,\n",
    "    })   \n",
    "    memory.save_context({\"answer\": answer},{\"output\": result.content}) \n",
    "    print(result)\n"
   ]
  },
  {
   "cell_type": "code",
   "execution_count": 5,
   "metadata": {},
   "outputs": [
    {
     "name": "stdout",
     "output_type": "stream",
     "text": [
      "content='❄️👸🏼⛄'\n",
      "content='🏠👨\\u200d👩\\u200d👧\\u200d👦💰'\n"
     ]
    }
   ],
   "source": [
    "invoke_chain(\"Frozen\")\n",
    "invoke_chain(\"Parasite\")"
   ]
  },
  {
   "cell_type": "code",
   "execution_count": 6,
   "metadata": {},
   "outputs": [
    {
     "name": "stdout",
     "output_type": "stream",
     "text": [
      "content='The first movie is \"Frozen\"'\n"
     ]
    }
   ],
   "source": [
    "invoke_chain(\"What is the first movie of my question?\")"
   ]
  }
 ],
 "metadata": {
  "kernelspec": {
   "display_name": "env",
   "language": "python",
   "name": "python3"
  },
  "language_info": {
   "codemirror_mode": {
    "name": "ipython",
    "version": 3
   },
   "file_extension": ".py",
   "mimetype": "text/x-python",
   "name": "python",
   "nbconvert_exporter": "python",
   "pygments_lexer": "ipython3",
   "version": "3.10.18"
  }
 },
 "nbformat": 4,
 "nbformat_minor": 2
}
