{
 "cells": [
  {
   "cell_type": "code",
   "execution_count": 1,
   "metadata": {},
   "outputs": [
    {
     "name": "stdout",
     "output_type": "stream",
     "text": [
      "What is the capital city of Italy?\n",
      "[{'answer': 'Rome', 'correct': True}, {'answer': 'Milan', 'correct': False}, {'answer': 'Florence', 'correct': False}]\n",
      "Which ancient Roman structure is known for its gladiator fights?\n",
      "[{'answer': 'Colosseum', 'correct': True}, {'answer': 'Pantheon', 'correct': False}, {'answer': 'Trevi Fountain', 'correct': False}]\n",
      "Who was the first Roman Emperor?\n",
      "[{'answer': 'Julius Caesar', 'correct': False}, {'answer': 'Augustus', 'correct': True}, {'answer': 'Nero', 'correct': False}]\n",
      "What river runs through the city of Rome?\n",
      "[{'answer': 'Tiber River', 'correct': True}, {'answer': 'Arno River', 'correct': False}, {'answer': 'Po River', 'correct': False}]\n",
      "Which famous fountain is located in Rome and is known for making wishes come true?\n",
      "[{'answer': 'Trevi Fountain', 'correct': True}, {'answer': 'Fountain of Neptune', 'correct': False}, {'answer': 'Fountain of the Four Rivers', 'correct': False}]\n"
     ]
    }
   ],
   "source": [
    "from langchain.chat_models import ChatOpenAI\n",
    "from langchain.prompts import PromptTemplate\n",
    "\n",
    "function = {\n",
    "    \"name\": \"create_quiz\",\n",
    "    \"description\": \"function that takes a list of questions and answers and returns a quiz\",\n",
    "    \"parameters\":{\n",
    "        \"type\": \"object\",\n",
    "        \"properties\": {\n",
    "            \"questions\": {\n",
    "                \"type\": \"array\",\n",
    "                \"items\": {\n",
    "                    \"type\": \"object\",\n",
    "                    \"properties\": {\n",
    "                        \"question\": {\n",
    "                            \"type\": \"string\",\n",
    "                        },\n",
    "                        \"answers\": {\n",
    "                            \"type\": \"array\",\n",
    "                            \"items\": {\n",
    "                                \"type\": \"object\",\n",
    "                                \"properties\": {\n",
    "                                    \"answer\": {\n",
    "                                        \"type\": \"string\",\n",
    "                                    },\n",
    "                                    \"correct\": {\n",
    "                                        \"type\": \"boolean\",\n",
    "                                    }\n",
    "                                },\n",
    "                            },\n",
    "                            \"required\": [\"answer\",\"correct\"]\n",
    "                        },\n",
    "                    },\n",
    "                    \"required\": [\"question\",\"answers\"]\n",
    "                }\n",
    "            },\n",
    "        },\n",
    "        \"required\": [\"questions\"]\n",
    "    }\n",
    "}\n",
    "\n",
    "llm = ChatOpenAI(\n",
    "    temperature=0.1,\n",
    ").bind(\n",
    "    function_call = {\"name\":\"create_quiz\"},\n",
    "    functions=[function]\n",
    ")\n",
    "\n",
    "prompt = PromptTemplate.from_template(\"Make a quiz about {city}\")\n",
    "\n",
    "chain = prompt | llm\n",
    "\n",
    "response = chain.invoke({\"city\": \"Rome\"})\n",
    "\n",
    "response = response.additional_kwargs[\"function_call\"][\"arguments\"]\n",
    "\n",
    "import json\n",
    "response = json.loads(response)\n",
    "for question in response[\"questions\"]:\n",
    "    print(question[\"question\"])\n",
    "    print(question[\"answers\"])"
   ]
  }
 ],
 "metadata": {
  "kernelspec": {
   "display_name": "env",
   "language": "python",
   "name": "python3"
  },
  "language_info": {
   "codemirror_mode": {
    "name": "ipython",
    "version": 3
   },
   "file_extension": ".py",
   "mimetype": "text/x-python",
   "name": "python",
   "nbconvert_exporter": "python",
   "pygments_lexer": "ipython3",
   "version": "3.10.18"
  }
 },
 "nbformat": 4,
 "nbformat_minor": 2
}
