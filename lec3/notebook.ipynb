{
 "cells": [
  {
   "cell_type": "code",
   "execution_count": 2,
   "metadata": {},
   "outputs": [],
   "source": [
    "from langchain.chat_models import ChatOpenAI\n",
    "from langchain.prompts import ChatPromptTemplate\n",
    "from langchain.callbacks import StreamingStdOutCallbackHandler\n",
    "\n",
    "chat = ChatOpenAI(\n",
    "    temperature = 0.1,\n",
    "    streaming = True,\n",
    "    callbacks = [\n",
    "        StreamingStdOutCallbackHandler(),\n",
    "    ],\n",
    ")\n",
    "\n",
    "\n",
    "writing_prompt = ChatPromptTemplate.from_messages([\n",
    "    (\"system\",\"\"),\n",
    "    (\"human\",\"I want to see Haikus about {language}.\")\n",
    "]\n",
    ")\n",
    "\n",
    "writing_chain = writing_prompt | chat"
   ]
  },
  {
   "cell_type": "code",
   "execution_count": 3,
   "metadata": {},
   "outputs": [
    {
     "name": "stdout",
     "output_type": "stream",
     "text": [
      "1. Java in my cup\n",
      "Bitter, sweet, awakening\n",
      "Morning ritual\n",
      "\n",
      "2. Code lines intertwine\n",
      "Java language, elegant\n",
      "Programs come to life\n",
      "\n",
      "3. Beans and classes blend\n",
      "Java's power, vast and strong\n",
      "Endless possibilities1. Java in my cup\n",
      "Bitter, sweet, awakening\n",
      "Morning ritual\n",
      "\n",
      "This Haiku describes the experience of starting the day with a cup of Java, which can refer to both the coffee and the programming language. The use of \"bitter, sweet, awakening\" conveys the complex and stimulating nature of both the drink and the act of programming.\n",
      "\n",
      "2. Code lines intertwine\n",
      "Java language, elegant\n",
      "Programs come to life\n",
      "\n",
      "In this Haiku, the beauty and sophistication of the Java programming language is highlighted. The imagery of \"code lines intertwine\" suggests the intricacy and interconnectedness of writing code, while \"Programs come to life\" emphasizes the transformative power of programming in bringing ideas to fruition.\n",
      "\n",
      "3. Beans and classes blend\n",
      "Java's power, vast and strong\n",
      "Endless possibilities\n",
      "\n",
      "This Haiku metaphorically compares the blending of beans and classes in Java to the creation of something powerful and limitless. The reference to \"Java's power, vast and strong\" underscores the capabilities of the language, while \"Endless possibilities\" hints at the boundless opportunities for innovation and creation that Java offers."
     ]
    },
    {
     "data": {
      "text/plain": [
       "AIMessageChunk(content='1. Java in my cup\\nBitter, sweet, awakening\\nMorning ritual\\n\\nThis Haiku describes the experience of starting the day with a cup of Java, which can refer to both the coffee and the programming language. The use of \"bitter, sweet, awakening\" conveys the complex and stimulating nature of both the drink and the act of programming.\\n\\n2. Code lines intertwine\\nJava language, elegant\\nPrograms come to life\\n\\nIn this Haiku, the beauty and sophistication of the Java programming language is highlighted. The imagery of \"code lines intertwine\" suggests the intricacy and interconnectedness of writing code, while \"Programs come to life\" emphasizes the transformative power of programming in bringing ideas to fruition.\\n\\n3. Beans and classes blend\\nJava\\'s power, vast and strong\\nEndless possibilities\\n\\nThis Haiku metaphorically compares the blending of beans and classes in Java to the creation of something powerful and limitless. The reference to \"Java\\'s power, vast and strong\" underscores the capabilities of the language, while \"Endless possibilities\" hints at the boundless opportunities for innovation and creation that Java offers.')"
      ]
     },
     "execution_count": 3,
     "metadata": {},
     "output_type": "execute_result"
    },
    {
     "name": "stderr",
     "output_type": "stream",
     "text": [
      "Connection error caused failure to patch https://api.smith.langchain.com/runs/4776c234-a409-4a92-b207-5dca26a892cb  in LangSmith API. Please confirm your LANGCHAIN_ENDPOINT. ConnectionError(MaxRetryError('HTTPSConnectionPool(host=\\'api.smith.langchain.com\\', port=443): Max retries exceeded with url: /runs/4776c234-a409-4a92-b207-5dca26a892cb (Caused by ReadTimeoutError(\"HTTPSConnectionPool(host=\\'api.smith.langchain.com\\', port=443): Read timed out. (read timeout=7.0)\"))'))\n"
     ]
    }
   ],
   "source": [
    "explain_prompt = ChatPromptTemplate.from_messages([\n",
    "    (\"system\", \"you are the specialist in explaining Haikus. If you receive a Haikus, then you should reply with the Haikus and its explanation.\"),\n",
    "    (\"human\",\"{Haikus}\"),\n",
    "])\n",
    "explain_chain = explain_prompt | chat\n",
    "\n",
    "final_chain = {\"Haikus\": writing_chain} | explain_chain\n",
    "\n",
    "final_chain.invoke({\"language\": \"java\"})"
   ]
  }
 ],
 "metadata": {
  "kernelspec": {
   "display_name": "env",
   "language": "python",
   "name": "python3"
  },
  "language_info": {
   "codemirror_mode": {
    "name": "ipython",
    "version": 3
   },
   "file_extension": ".py",
   "mimetype": "text/x-python",
   "name": "python",
   "nbconvert_exporter": "python",
   "pygments_lexer": "ipython3",
   "version": "3.10.18"
  }
 },
 "nbformat": 4,
 "nbformat_minor": 2
}
